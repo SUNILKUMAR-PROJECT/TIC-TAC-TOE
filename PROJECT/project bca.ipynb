{
 "cells": [
  {
   "cell_type": "code",
   "execution_count": null,
   "id": "cbd73758-5f45-4dea-9bb9-178594ebee7b",
   "metadata": {},
   "outputs": [
    {
     "name": "stdout",
     "output_type": "stream",
     "text": [
      "| - | - | - |\n",
      "| - | - | - |\n",
      "| - | - | - |\n"
     ]
    },
    {
     "name": "stdin",
     "output_type": "stream",
     "text": [
      "X ENTER YOUR POSITION :  2\n"
     ]
    },
    {
     "name": "stdout",
     "output_type": "stream",
     "text": [
      "| - | X | - |\n",
      "| - | - | - |\n",
      "| - | - | - |\n"
     ]
    },
    {
     "name": "stdin",
     "output_type": "stream",
     "text": [
      "O ENTER YOUR POSITION :  4\n"
     ]
    },
    {
     "name": "stdout",
     "output_type": "stream",
     "text": [
      "| - | X | - |\n",
      "| O | - | - |\n",
      "| - | - | - |\n"
     ]
    },
    {
     "name": "stdin",
     "output_type": "stream",
     "text": [
      "X ENTER YOUR POSITION :  5\n"
     ]
    },
    {
     "name": "stdout",
     "output_type": "stream",
     "text": [
      "| - | X | - |\n",
      "| O | X | - |\n",
      "| - | - | - |\n"
     ]
    },
    {
     "name": "stdin",
     "output_type": "stream",
     "text": [
      "O ENTER YOUR POSITION :  1\n"
     ]
    },
    {
     "name": "stdout",
     "output_type": "stream",
     "text": [
      "| O | X | - |\n",
      "| O | X | - |\n",
      "| - | - | - |\n"
     ]
    },
    {
     "name": "stdin",
     "output_type": "stream",
     "text": [
      "X ENTER YOUR POSITION :  8\n"
     ]
    },
    {
     "name": "stdout",
     "output_type": "stream",
     "text": [
      "| O | X | - |\n",
      "| O | X | - |\n",
      "| - | X | - |\n",
      "WINNER : X\n"
     ]
    },
    {
     "name": "stdin",
     "output_type": "stream",
     "text": [
      "DO YOU WANT PLAY AGAIN[Y/N] : N\n"
     ]
    }
   ],
   "source": [
    "board=[\"-\" for i in range(9)]\n",
    "def displayboard():\n",
    "    # displaying a board in rows and columns\n",
    "    print(\"|\",board[0],\"|\",board[1],\"|\",board[2],\"|\")\n",
    "    print(\"|\",board[3],\"|\",board[4],\"|\",board[5],\"|\")\n",
    "    print(\"|\",board[6],\"|\",board[7],\"|\",board[8],\"|\")\n",
    "\n",
    "#creating a players\n",
    "player1=\"X\"\n",
    "player2=\"O\"\n",
    "\n",
    "#wining combination and possibilites\n",
    "def check_conditions(player):\n",
    "    conditions=[\n",
    "    [0,1,2],[3,4,5],[6,7,8],[0,3,6],\n",
    "    [1,4,7],[2,5,8],[0,4,8],[2,4,6]]\n",
    "    for check in conditions:\n",
    "        if board[check[0]]==player and board[check[1]]==player and board[check[2]]==player:\n",
    "            return 1\n",
    "    else:\n",
    "        return 0\n",
    "\n",
    "    \n",
    "#collecting input from user\n",
    "def startgame():\n",
    "    displayboard()\n",
    "    while True:\n",
    "        while True:\n",
    "            player1_option =int(input(f\"{player1} ENTER YOUR POSITION : \" ))\n",
    "\n",
    "            if player1_option not in [i for i in range(1,10)]:\n",
    "                print(\"PLEASE ENTER A NUMBER BETWEEN [1-9]\")\n",
    "                continue\n",
    "                \n",
    "            if board[player1_option-1]==\"-\":\n",
    "                board[player1_option-1]=player1\n",
    "                displayboard()\n",
    "                if check_conditions(player1):\n",
    "                    return f'WINNER : {player1}'\n",
    "                break\n",
    "            else:\n",
    "                print(\"THIS POSITION IS NOT EMPTY\")\n",
    "        if len([i for i in board if i=='-'])==0:\n",
    "            return 'THIS MATCH IS DRAW'\n",
    "        while True:\n",
    "            player2_option =int(input(f\"{player2} ENTER YOUR POSITION : \" ))\n",
    "\n",
    "            if player2_option not in [i for i in range(1,10)]:\n",
    "                print(\"PLEASE ENTER A NUMBER BETWEEN [1-9]\")\n",
    "                continue\n",
    "                \n",
    "            if board[player2_option-1]==\"-\":\n",
    "                board[player2_option-1]=player2\n",
    "                displayboard()\n",
    "                if check_conditions(player2):\n",
    "                    return f'WINNER : {player2}'\n",
    "                break\n",
    "            else:\n",
    "                print(\"THIS POSITION IS NOT EMPTY\")\n",
    "\n",
    "print(startgame())\n",
    "\n",
    "while True:\n",
    "    play_again=input(\"DO YOU WANT PLAY AGAIN[Y/N] :\")\n",
    "    if play_again in \"yY\":\n",
    "        board=[\"-\" for i in range(9)]\n",
    "        print(startgame())\n",
    "    else:\n",
    "        exit()\n"
   ]
  },
  {
   "cell_type": "code",
   "execution_count": null,
   "id": "7eab0259-70b3-4531-8daa-46ffec3e6440",
   "metadata": {},
   "outputs": [],
   "source": []
  }
 ],
 "metadata": {
  "kernelspec": {
   "display_name": "Python 3 (ipykernel)",
   "language": "python",
   "name": "python3"
  },
  "language_info": {
   "codemirror_mode": {
    "name": "ipython",
    "version": 3
   },
   "file_extension": ".py",
   "mimetype": "text/x-python",
   "name": "python",
   "nbconvert_exporter": "python",
   "pygments_lexer": "ipython3",
   "version": "3.12.4"
  }
 },
 "nbformat": 4,
 "nbformat_minor": 5
}
